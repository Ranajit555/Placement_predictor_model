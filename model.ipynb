{
 "cells": [
  {
   "cell_type": "code",
   "execution_count": 2,
   "id": "7112d246-3e57-4956-a5a1-8b1998908d86",
   "metadata": {
    "editable": true,
    "slideshow": {
     "slide_type": ""
    },
    "tags": []
   },
   "outputs": [],
   "source": [
    "import pandas as pd"
   ]
  },
  {
   "cell_type": "code",
   "execution_count": 3,
   "id": "6ff902f4-96da-40ec-859c-65d19ba14a86",
   "metadata": {},
   "outputs": [],
   "source": [
    "s_data=pd.read_csv('/home/ranajit/Documents/Ml_workspace/All_Dataset/STUDENT_PERFORMANCE.csv')"
   ]
  },
  {
   "cell_type": "code",
   "execution_count": 4,
   "id": "acd5f410-669b-483d-b15b-13232c57096e",
   "metadata": {},
   "outputs": [],
   "source": [
    "# warnings are messages that indicate potential issues or unexpected behavior during the execution of the code\n",
    "import warnings\n",
    "warnings.filterwarnings('ignore')\n"
   ]
  },
  {
   "cell_type": "code",
   "execution_count": 5,
   "id": "70329fad-7af1-4fb3-a202-7e919c751297",
   "metadata": {
    "scrolled": true
   },
   "outputs": [
    {
     "data": {
      "text/html": [
       "<div>\n",
       "<style scoped>\n",
       "    .dataframe tbody tr th:only-of-type {\n",
       "        vertical-align: middle;\n",
       "    }\n",
       "\n",
       "    .dataframe tbody tr th {\n",
       "        vertical-align: top;\n",
       "    }\n",
       "\n",
       "    .dataframe thead th {\n",
       "        text-align: right;\n",
       "    }\n",
       "</style>\n",
       "<table border=\"1\" class=\"dataframe\">\n",
       "  <thead>\n",
       "    <tr style=\"text-align: right;\">\n",
       "      <th></th>\n",
       "      <th>Timestamp</th>\n",
       "      <th>Full Name</th>\n",
       "      <th>10th Result (percentage)</th>\n",
       "      <th>12th Result (percentage)</th>\n",
       "      <th>Maths Score in 12th</th>\n",
       "      <th>English Score in 12th</th>\n",
       "      <th>Medium of Instruction</th>\n",
       "      <th>Current CGPA</th>\n",
       "      <th>Do you participate in sports regularly</th>\n",
       "      <th>Do you participate in cultural activities</th>\n",
       "      <th>Do you participate in Debate, Quiz, Essay , Public Speaking</th>\n",
       "      <th>Placement Indicator</th>\n",
       "      <th>Age</th>\n",
       "    </tr>\n",
       "  </thead>\n",
       "  <tbody>\n",
       "    <tr>\n",
       "      <th>0</th>\n",
       "      <td>7-15-2024 22:10:51</td>\n",
       "      <td>Shuvamoy Pradhan</td>\n",
       "      <td>74</td>\n",
       "      <td>76</td>\n",
       "      <td>97</td>\n",
       "      <td>86</td>\n",
       "      <td>Native language</td>\n",
       "      <td>7.85</td>\n",
       "      <td>Yes</td>\n",
       "      <td>No</td>\n",
       "      <td>No</td>\n",
       "      <td>Yes</td>\n",
       "      <td>22</td>\n",
       "    </tr>\n",
       "    <tr>\n",
       "      <th>1</th>\n",
       "      <td>7-15-2024 22:16:00</td>\n",
       "      <td>Shubham Maity</td>\n",
       "      <td>75</td>\n",
       "      <td>87</td>\n",
       "      <td>97</td>\n",
       "      <td>85</td>\n",
       "      <td>Official language</td>\n",
       "      <td>7.85</td>\n",
       "      <td>Yes</td>\n",
       "      <td>No</td>\n",
       "      <td>No</td>\n",
       "      <td>Yes</td>\n",
       "      <td>21</td>\n",
       "    </tr>\n",
       "    <tr>\n",
       "      <th>2</th>\n",
       "      <td>7-15-2024 22:22:09</td>\n",
       "      <td>Mangaldeep Mandal</td>\n",
       "      <td>79</td>\n",
       "      <td>84</td>\n",
       "      <td>91</td>\n",
       "      <td>93</td>\n",
       "      <td>Native language</td>\n",
       "      <td>8.88</td>\n",
       "      <td>No</td>\n",
       "      <td>No</td>\n",
       "      <td>No</td>\n",
       "      <td>No</td>\n",
       "      <td>21</td>\n",
       "    </tr>\n",
       "    <tr>\n",
       "      <th>3</th>\n",
       "      <td>7-15-2024 22:29:10</td>\n",
       "      <td>Sagar</td>\n",
       "      <td>65</td>\n",
       "      <td>91</td>\n",
       "      <td>92</td>\n",
       "      <td>97</td>\n",
       "      <td>Native language</td>\n",
       "      <td>8.50</td>\n",
       "      <td>Yes</td>\n",
       "      <td>Yes</td>\n",
       "      <td>Yes</td>\n",
       "      <td>Yes</td>\n",
       "      <td>19</td>\n",
       "    </tr>\n",
       "    <tr>\n",
       "      <th>4</th>\n",
       "      <td>7-15-2024 22:29:52</td>\n",
       "      <td>Bhaswati</td>\n",
       "      <td>77</td>\n",
       "      <td>78</td>\n",
       "      <td>90</td>\n",
       "      <td>84</td>\n",
       "      <td>Official language</td>\n",
       "      <td>7.56</td>\n",
       "      <td>No</td>\n",
       "      <td>Yes</td>\n",
       "      <td>Yes</td>\n",
       "      <td>No</td>\n",
       "      <td>20</td>\n",
       "    </tr>\n",
       "  </tbody>\n",
       "</table>\n",
       "</div>"
      ],
      "text/plain": [
       "            Timestamp          Full Name  10th Result (percentage)  \\\n",
       "0  7-15-2024 22:10:51  Shuvamoy Pradhan                         74   \n",
       "1  7-15-2024 22:16:00     Shubham Maity                         75   \n",
       "2  7-15-2024 22:22:09  Mangaldeep Mandal                        79   \n",
       "3  7-15-2024 22:29:10             Sagar                         65   \n",
       "4  7-15-2024 22:29:52          Bhaswati                         77   \n",
       "\n",
       "   12th Result (percentage)  Maths Score in 12th  English Score in 12th  \\\n",
       "0                        76                   97                     86   \n",
       "1                        87                   97                     85   \n",
       "2                        84                   91                     93   \n",
       "3                        91                   92                     97   \n",
       "4                        78                   90                     84   \n",
       "\n",
       "  Medium of Instruction  Current CGPA Do you participate in sports regularly  \\\n",
       "0       Native language          7.85                                    Yes   \n",
       "1     Official language          7.85                                    Yes   \n",
       "2       Native language          8.88                                     No   \n",
       "3       Native language          8.50                                    Yes   \n",
       "4     Official language          7.56                                     No   \n",
       "\n",
       "  Do you participate in cultural activities  \\\n",
       "0                                        No   \n",
       "1                                        No   \n",
       "2                                        No   \n",
       "3                                       Yes   \n",
       "4                                       Yes   \n",
       "\n",
       "  Do you participate in Debate, Quiz, Essay , Public Speaking  \\\n",
       "0                                                 No            \n",
       "1                                                 No            \n",
       "2                                                 No            \n",
       "3                                                Yes            \n",
       "4                                                Yes            \n",
       "\n",
       "  Placement Indicator  Age  \n",
       "0                 Yes   22  \n",
       "1                 Yes   21  \n",
       "2                  No   21  \n",
       "3                 Yes   19  \n",
       "4                  No   20  "
      ]
     },
     "execution_count": 5,
     "metadata": {},
     "output_type": "execute_result"
    }
   ],
   "source": [
    "s_data.head()"
   ]
  },
  {
   "cell_type": "code",
   "execution_count": 6,
   "id": "38026001-fe47-4358-b214-b8f8c8240da4",
   "metadata": {},
   "outputs": [
    {
     "data": {
      "text/html": [
       "<div>\n",
       "<style scoped>\n",
       "    .dataframe tbody tr th:only-of-type {\n",
       "        vertical-align: middle;\n",
       "    }\n",
       "\n",
       "    .dataframe tbody tr th {\n",
       "        vertical-align: top;\n",
       "    }\n",
       "\n",
       "    .dataframe thead th {\n",
       "        text-align: right;\n",
       "    }\n",
       "</style>\n",
       "<table border=\"1\" class=\"dataframe\">\n",
       "  <thead>\n",
       "    <tr style=\"text-align: right;\">\n",
       "      <th></th>\n",
       "      <th>Timestamp</th>\n",
       "      <th>Full Name</th>\n",
       "      <th>10th Result (percentage)</th>\n",
       "      <th>12th Result (percentage)</th>\n",
       "      <th>Maths Score in 12th</th>\n",
       "      <th>English Score in 12th</th>\n",
       "      <th>Medium of Instruction</th>\n",
       "      <th>Current CGPA</th>\n",
       "      <th>Do you participate in sports regularly</th>\n",
       "      <th>Do you participate in cultural activities</th>\n",
       "      <th>Do you participate in Debate, Quiz, Essay , Public Speaking</th>\n",
       "      <th>Placement Indicator</th>\n",
       "      <th>Age</th>\n",
       "    </tr>\n",
       "  </thead>\n",
       "  <tbody>\n",
       "    <tr>\n",
       "      <th>127</th>\n",
       "      <td>7-25-2024 19:21:15</td>\n",
       "      <td>Gita Maity</td>\n",
       "      <td>72</td>\n",
       "      <td>88</td>\n",
       "      <td>94</td>\n",
       "      <td>70</td>\n",
       "      <td>Official language</td>\n",
       "      <td>9.90</td>\n",
       "      <td>No</td>\n",
       "      <td>Yes</td>\n",
       "      <td>No</td>\n",
       "      <td>No</td>\n",
       "      <td>25</td>\n",
       "    </tr>\n",
       "    <tr>\n",
       "      <th>128</th>\n",
       "      <td>7-25-2024 19:22:20</td>\n",
       "      <td>Uday Mondol</td>\n",
       "      <td>91</td>\n",
       "      <td>61</td>\n",
       "      <td>95</td>\n",
       "      <td>92</td>\n",
       "      <td>Others</td>\n",
       "      <td>9.45</td>\n",
       "      <td>Yes</td>\n",
       "      <td>Yes</td>\n",
       "      <td>No</td>\n",
       "      <td>Yes</td>\n",
       "      <td>21</td>\n",
       "    </tr>\n",
       "    <tr>\n",
       "      <th>129</th>\n",
       "      <td>7-25-2024 19:30:37</td>\n",
       "      <td>Debjit Kundu</td>\n",
       "      <td>90</td>\n",
       "      <td>97</td>\n",
       "      <td>92</td>\n",
       "      <td>85</td>\n",
       "      <td>Official language</td>\n",
       "      <td>7.88</td>\n",
       "      <td>Yes</td>\n",
       "      <td>No</td>\n",
       "      <td>No</td>\n",
       "      <td>Yes</td>\n",
       "      <td>20</td>\n",
       "    </tr>\n",
       "    <tr>\n",
       "      <th>130</th>\n",
       "      <td>7-25-2024 19:30:46</td>\n",
       "      <td>Manish Sarkar</td>\n",
       "      <td>88</td>\n",
       "      <td>94</td>\n",
       "      <td>73</td>\n",
       "      <td>95</td>\n",
       "      <td>Official language</td>\n",
       "      <td>9.64</td>\n",
       "      <td>Yes</td>\n",
       "      <td>No</td>\n",
       "      <td>No</td>\n",
       "      <td>No</td>\n",
       "      <td>17</td>\n",
       "    </tr>\n",
       "    <tr>\n",
       "      <th>131</th>\n",
       "      <td>7-25-2024 19:31:46</td>\n",
       "      <td>Ananya Bera</td>\n",
       "      <td>94</td>\n",
       "      <td>95</td>\n",
       "      <td>90</td>\n",
       "      <td>94</td>\n",
       "      <td>Native language</td>\n",
       "      <td>8.30</td>\n",
       "      <td>No</td>\n",
       "      <td>No</td>\n",
       "      <td>No</td>\n",
       "      <td>No</td>\n",
       "      <td>20</td>\n",
       "    </tr>\n",
       "  </tbody>\n",
       "</table>\n",
       "</div>"
      ],
      "text/plain": [
       "              Timestamp      Full Name  10th Result (percentage)  \\\n",
       "127  7-25-2024 19:21:15     Gita Maity                        72   \n",
       "128  7-25-2024 19:22:20    Uday Mondol                        91   \n",
       "129  7-25-2024 19:30:37   Debjit Kundu                        90   \n",
       "130  7-25-2024 19:30:46  Manish Sarkar                        88   \n",
       "131  7-25-2024 19:31:46    Ananya Bera                        94   \n",
       "\n",
       "     12th Result (percentage)  Maths Score in 12th  English Score in 12th  \\\n",
       "127                        88                   94                     70   \n",
       "128                        61                   95                     92   \n",
       "129                        97                   92                     85   \n",
       "130                        94                   73                     95   \n",
       "131                        95                   90                     94   \n",
       "\n",
       "    Medium of Instruction  Current CGPA  \\\n",
       "127     Official language          9.90   \n",
       "128                Others          9.45   \n",
       "129     Official language          7.88   \n",
       "130     Official language          9.64   \n",
       "131       Native language          8.30   \n",
       "\n",
       "    Do you participate in sports regularly  \\\n",
       "127                                     No   \n",
       "128                                    Yes   \n",
       "129                                    Yes   \n",
       "130                                    Yes   \n",
       "131                                     No   \n",
       "\n",
       "    Do you participate in cultural activities  \\\n",
       "127                                       Yes   \n",
       "128                                       Yes   \n",
       "129                                        No   \n",
       "130                                        No   \n",
       "131                                        No   \n",
       "\n",
       "    Do you participate in Debate, Quiz, Essay , Public Speaking  \\\n",
       "127                                                 No            \n",
       "128                                                 No            \n",
       "129                                                 No            \n",
       "130                                                 No            \n",
       "131                                                 No            \n",
       "\n",
       "    Placement Indicator  Age  \n",
       "127                  No   25  \n",
       "128                 Yes   21  \n",
       "129                 Yes   20  \n",
       "130                  No   17  \n",
       "131                  No   20  "
      ]
     },
     "execution_count": 6,
     "metadata": {},
     "output_type": "execute_result"
    }
   ],
   "source": [
    "s_data.tail()\n"
   ]
  },
  {
   "cell_type": "code",
   "execution_count": 7,
   "id": "d9183670-0a8d-4668-a132-9270e4d4e291",
   "metadata": {},
   "outputs": [
    {
     "data": {
      "text/plain": [
       "(132, 13)"
      ]
     },
     "execution_count": 7,
     "metadata": {},
     "output_type": "execute_result"
    }
   ],
   "source": [
    "s_data.shape"
   ]
  },
  {
   "cell_type": "code",
   "execution_count": 8,
   "id": "97d94003-a3e0-44d2-9755-e777bf603b72",
   "metadata": {},
   "outputs": [
    {
     "name": "stdout",
     "output_type": "stream",
     "text": [
      "<class 'pandas.core.frame.DataFrame'>\n",
      "RangeIndex: 132 entries, 0 to 131\n",
      "Data columns (total 13 columns):\n",
      " #   Column                                                       Non-Null Count  Dtype  \n",
      "---  ------                                                       --------------  -----  \n",
      " 0   Timestamp                                                    132 non-null    object \n",
      " 1   Full Name                                                    132 non-null    object \n",
      " 2   10th Result (percentage)                                     132 non-null    int64  \n",
      " 3   12th Result (percentage)                                     132 non-null    int64  \n",
      " 4   Maths Score in 12th                                          132 non-null    int64  \n",
      " 5   English Score in 12th                                        132 non-null    int64  \n",
      " 6   Medium of Instruction                                        132 non-null    object \n",
      " 7   Current CGPA                                                 132 non-null    float64\n",
      " 8   Do you participate in sports regularly                       132 non-null    object \n",
      " 9   Do you participate in cultural activities                    132 non-null    object \n",
      " 10  Do you participate in Debate, Quiz, Essay , Public Speaking  132 non-null    object \n",
      " 11  Placement Indicator                                          132 non-null    object \n",
      " 12  Age                                                          132 non-null    int64  \n",
      "dtypes: float64(1), int64(5), object(7)\n",
      "memory usage: 13.5+ KB\n"
     ]
    }
   ],
   "source": [
    "s_data.info()"
   ]
  },
  {
   "cell_type": "code",
   "execution_count": 9,
   "id": "ca38a8e3-d1fc-4d21-aafd-b8e081de054d",
   "metadata": {},
   "outputs": [
    {
     "data": {
      "text/plain": [
       "Timestamp                                                      0\n",
       "Full Name                                                      0\n",
       "10th Result (percentage)                                       0\n",
       "12th Result (percentage)                                       0\n",
       "Maths Score in 12th                                            0\n",
       "English Score in 12th                                          0\n",
       "Medium of Instruction                                          0\n",
       "Current CGPA                                                   0\n",
       "Do you participate in sports regularly                         0\n",
       "Do you participate in cultural activities                      0\n",
       "Do you participate in Debate, Quiz, Essay , Public Speaking    0\n",
       "Placement Indicator                                            0\n",
       "Age                                                            0\n",
       "dtype: int64"
      ]
     },
     "execution_count": 9,
     "metadata": {},
     "output_type": "execute_result"
    }
   ],
   "source": [
    "s_data.isnull().sum()"
   ]
  },
  {
   "cell_type": "code",
   "execution_count": 10,
   "id": "e3d4e297-c671-45e8-8758-4d7d81373b20",
   "metadata": {},
   "outputs": [
    {
     "data": {
      "text/html": [
       "<div>\n",
       "<style scoped>\n",
       "    .dataframe tbody tr th:only-of-type {\n",
       "        vertical-align: middle;\n",
       "    }\n",
       "\n",
       "    .dataframe tbody tr th {\n",
       "        vertical-align: top;\n",
       "    }\n",
       "\n",
       "    .dataframe thead th {\n",
       "        text-align: right;\n",
       "    }\n",
       "</style>\n",
       "<table border=\"1\" class=\"dataframe\">\n",
       "  <thead>\n",
       "    <tr style=\"text-align: right;\">\n",
       "      <th></th>\n",
       "      <th>10th Result (percentage)</th>\n",
       "      <th>12th Result (percentage)</th>\n",
       "      <th>Maths Score in 12th</th>\n",
       "      <th>English Score in 12th</th>\n",
       "      <th>Current CGPA</th>\n",
       "      <th>Age</th>\n",
       "    </tr>\n",
       "  </thead>\n",
       "  <tbody>\n",
       "    <tr>\n",
       "      <th>count</th>\n",
       "      <td>132.000000</td>\n",
       "      <td>132.000000</td>\n",
       "      <td>132.000000</td>\n",
       "      <td>132.000000</td>\n",
       "      <td>132.000000</td>\n",
       "      <td>132.000000</td>\n",
       "    </tr>\n",
       "    <tr>\n",
       "      <th>mean</th>\n",
       "      <td>80.333333</td>\n",
       "      <td>85.969697</td>\n",
       "      <td>84.924242</td>\n",
       "      <td>85.424242</td>\n",
       "      <td>8.403106</td>\n",
       "      <td>20.901515</td>\n",
       "    </tr>\n",
       "    <tr>\n",
       "      <th>std</th>\n",
       "      <td>11.069294</td>\n",
       "      <td>8.037070</td>\n",
       "      <td>10.915792</td>\n",
       "      <td>11.356890</td>\n",
       "      <td>6.508802</td>\n",
       "      <td>3.725013</td>\n",
       "    </tr>\n",
       "    <tr>\n",
       "      <th>min</th>\n",
       "      <td>50.000000</td>\n",
       "      <td>56.000000</td>\n",
       "      <td>50.000000</td>\n",
       "      <td>40.000000</td>\n",
       "      <td>4.400000</td>\n",
       "      <td>16.000000</td>\n",
       "    </tr>\n",
       "    <tr>\n",
       "      <th>25%</th>\n",
       "      <td>73.000000</td>\n",
       "      <td>81.000000</td>\n",
       "      <td>78.000000</td>\n",
       "      <td>81.750000</td>\n",
       "      <td>7.300000</td>\n",
       "      <td>19.000000</td>\n",
       "    </tr>\n",
       "    <tr>\n",
       "      <th>50%</th>\n",
       "      <td>80.500000</td>\n",
       "      <td>88.000000</td>\n",
       "      <td>87.500000</td>\n",
       "      <td>89.000000</td>\n",
       "      <td>7.850000</td>\n",
       "      <td>20.000000</td>\n",
       "    </tr>\n",
       "    <tr>\n",
       "      <th>75%</th>\n",
       "      <td>88.250000</td>\n",
       "      <td>92.000000</td>\n",
       "      <td>94.000000</td>\n",
       "      <td>94.000000</td>\n",
       "      <td>8.622500</td>\n",
       "      <td>21.000000</td>\n",
       "    </tr>\n",
       "    <tr>\n",
       "      <th>max</th>\n",
       "      <td>100.000000</td>\n",
       "      <td>100.000000</td>\n",
       "      <td>100.000000</td>\n",
       "      <td>100.000000</td>\n",
       "      <td>81.600000</td>\n",
       "      <td>46.000000</td>\n",
       "    </tr>\n",
       "  </tbody>\n",
       "</table>\n",
       "</div>"
      ],
      "text/plain": [
       "       10th Result (percentage)  12th Result (percentage)  \\\n",
       "count                132.000000                132.000000   \n",
       "mean                  80.333333                 85.969697   \n",
       "std                   11.069294                  8.037070   \n",
       "min                   50.000000                 56.000000   \n",
       "25%                   73.000000                 81.000000   \n",
       "50%                   80.500000                 88.000000   \n",
       "75%                   88.250000                 92.000000   \n",
       "max                  100.000000                100.000000   \n",
       "\n",
       "       Maths Score in 12th  English Score in 12th  Current CGPA         Age  \n",
       "count           132.000000             132.000000    132.000000  132.000000  \n",
       "mean             84.924242              85.424242      8.403106   20.901515  \n",
       "std              10.915792              11.356890      6.508802    3.725013  \n",
       "min              50.000000              40.000000      4.400000   16.000000  \n",
       "25%              78.000000              81.750000      7.300000   19.000000  \n",
       "50%              87.500000              89.000000      7.850000   20.000000  \n",
       "75%              94.000000              94.000000      8.622500   21.000000  \n",
       "max             100.000000             100.000000     81.600000   46.000000  "
      ]
     },
     "execution_count": 10,
     "metadata": {},
     "output_type": "execute_result"
    }
   ],
   "source": [
    "s_data.describe()"
   ]
  },
  {
   "cell_type": "code",
   "execution_count": 11,
   "id": "e655481a-febd-45b3-90a6-622b2e54afb6",
   "metadata": {},
   "outputs": [
    {
     "data": {
      "text/plain": [
       "Index(['Timestamp', 'Full Name', '10th Result (percentage)',\n",
       "       '12th Result (percentage)', 'Maths Score in 12th',\n",
       "       'English Score in 12th', 'Medium of Instruction', 'Current CGPA',\n",
       "       'Do you participate in sports regularly',\n",
       "       'Do you participate in cultural activities',\n",
       "       'Do you participate in Debate, Quiz, Essay , Public Speaking',\n",
       "       'Placement Indicator', 'Age'],\n",
       "      dtype='object')"
      ]
     },
     "execution_count": 11,
     "metadata": {},
     "output_type": "execute_result"
    }
   ],
   "source": [
    "s_data.columns"
   ]
  },
  {
   "cell_type": "code",
   "execution_count": 12,
   "id": "d6eb21c7-6fcb-4710-8a25-1f12a86caf07",
   "metadata": {},
   "outputs": [
    {
     "data": {
      "text/plain": [
       "array(['Yes', 'No'], dtype=object)"
      ]
     },
     "execution_count": 12,
     "metadata": {},
     "output_type": "execute_result"
    }
   ],
   "source": [
    "s_data['Placement Indicator'].unique()"
   ]
  },
  {
   "cell_type": "code",
   "execution_count": 13,
   "id": "ab56b7ab-3b41-47fe-9554-677d92b024d0",
   "metadata": {},
   "outputs": [
    {
     "data": {
      "text/plain": [
       "Placement Indicator\n",
       "No     75\n",
       "Yes    57\n",
       "Name: count, dtype: int64"
      ]
     },
     "execution_count": 13,
     "metadata": {},
     "output_type": "execute_result"
    }
   ],
   "source": [
    "s_data['Placement Indicator'].value_counts()"
   ]
  },
  {
   "cell_type": "code",
   "execution_count": 14,
   "id": "fe725751-6a0e-4418-9d58-d66b2f49ef80",
   "metadata": {},
   "outputs": [
    {
     "data": {
      "text/html": [
       "<div>\n",
       "<style scoped>\n",
       "    .dataframe tbody tr th:only-of-type {\n",
       "        vertical-align: middle;\n",
       "    }\n",
       "\n",
       "    .dataframe tbody tr th {\n",
       "        vertical-align: top;\n",
       "    }\n",
       "\n",
       "    .dataframe thead th {\n",
       "        text-align: right;\n",
       "    }\n",
       "</style>\n",
       "<table border=\"1\" class=\"dataframe\">\n",
       "  <thead>\n",
       "    <tr style=\"text-align: right;\">\n",
       "      <th></th>\n",
       "      <th>Timestamp</th>\n",
       "      <th>Full Name</th>\n",
       "      <th>10th Result (percentage)</th>\n",
       "      <th>12th Result (percentage)</th>\n",
       "      <th>Maths Score in 12th</th>\n",
       "      <th>English Score in 12th</th>\n",
       "      <th>Medium of Instruction</th>\n",
       "      <th>Current CGPA</th>\n",
       "      <th>Do you participate in sports regularly</th>\n",
       "      <th>Do you participate in cultural activities</th>\n",
       "      <th>Do you participate in Debate, Quiz, Essay , Public Speaking</th>\n",
       "      <th>Placement Indicator</th>\n",
       "      <th>Age</th>\n",
       "    </tr>\n",
       "  </thead>\n",
       "  <tbody>\n",
       "    <tr>\n",
       "      <th>48</th>\n",
       "      <td>7-24-2024 13:06:37</td>\n",
       "      <td>Rahul Dhara</td>\n",
       "      <td>85</td>\n",
       "      <td>90</td>\n",
       "      <td>95</td>\n",
       "      <td>81</td>\n",
       "      <td>Official language</td>\n",
       "      <td>8.02</td>\n",
       "      <td>Yes</td>\n",
       "      <td>No</td>\n",
       "      <td>Yes</td>\n",
       "      <td>Yes</td>\n",
       "      <td>20</td>\n",
       "    </tr>\n",
       "    <tr>\n",
       "      <th>15</th>\n",
       "      <td>7-16-2024 7:38:24</td>\n",
       "      <td>Pranab Samanta</td>\n",
       "      <td>79</td>\n",
       "      <td>92</td>\n",
       "      <td>98</td>\n",
       "      <td>94</td>\n",
       "      <td>Native language</td>\n",
       "      <td>8.12</td>\n",
       "      <td>No</td>\n",
       "      <td>No</td>\n",
       "      <td>No</td>\n",
       "      <td>Yes</td>\n",
       "      <td>21</td>\n",
       "    </tr>\n",
       "    <tr>\n",
       "      <th>94</th>\n",
       "      <td>7-25-2024 18:22:31</td>\n",
       "      <td>Ayan Maity</td>\n",
       "      <td>93</td>\n",
       "      <td>94</td>\n",
       "      <td>92</td>\n",
       "      <td>96</td>\n",
       "      <td>Native language</td>\n",
       "      <td>8.20</td>\n",
       "      <td>No</td>\n",
       "      <td>Yes</td>\n",
       "      <td>No</td>\n",
       "      <td>Yes</td>\n",
       "      <td>21</td>\n",
       "    </tr>\n",
       "    <tr>\n",
       "      <th>13</th>\n",
       "      <td>7-16-2024 6:05:36</td>\n",
       "      <td>SOMNATH samanta</td>\n",
       "      <td>73</td>\n",
       "      <td>91</td>\n",
       "      <td>100</td>\n",
       "      <td>91</td>\n",
       "      <td>Native language</td>\n",
       "      <td>8.30</td>\n",
       "      <td>Yes</td>\n",
       "      <td>Yes</td>\n",
       "      <td>Yes</td>\n",
       "      <td>Yes</td>\n",
       "      <td>20</td>\n",
       "    </tr>\n",
       "    <tr>\n",
       "      <th>88</th>\n",
       "      <td>7-25-2024 17:22:19</td>\n",
       "      <td>Shreya sahoo</td>\n",
       "      <td>90</td>\n",
       "      <td>92</td>\n",
       "      <td>91</td>\n",
       "      <td>96</td>\n",
       "      <td>Native language</td>\n",
       "      <td>8.30</td>\n",
       "      <td>Yes</td>\n",
       "      <td>No</td>\n",
       "      <td>Yes</td>\n",
       "      <td>Yes</td>\n",
       "      <td>18</td>\n",
       "    </tr>\n",
       "  </tbody>\n",
       "</table>\n",
       "</div>"
      ],
      "text/plain": [
       "             Timestamp         Full Name  10th Result (percentage)  \\\n",
       "48  7-24-2024 13:06:37      Rahul Dhara                         85   \n",
       "15   7-16-2024 7:38:24   Pranab Samanta                         79   \n",
       "94  7-25-2024 18:22:31        Ayan Maity                        93   \n",
       "13   7-16-2024 6:05:36  SOMNATH samanta                         73   \n",
       "88  7-25-2024 17:22:19      Shreya sahoo                        90   \n",
       "\n",
       "    12th Result (percentage)  Maths Score in 12th  English Score in 12th  \\\n",
       "48                        90                   95                     81   \n",
       "15                        92                   98                     94   \n",
       "94                        94                   92                     96   \n",
       "13                        91                  100                     91   \n",
       "88                        92                   91                     96   \n",
       "\n",
       "   Medium of Instruction  Current CGPA Do you participate in sports regularly  \\\n",
       "48     Official language          8.02                                    Yes   \n",
       "15       Native language          8.12                                     No   \n",
       "94       Native language          8.20                                     No   \n",
       "13       Native language          8.30                                    Yes   \n",
       "88       Native language          8.30                                    Yes   \n",
       "\n",
       "   Do you participate in cultural activities  \\\n",
       "48                                        No   \n",
       "15                                        No   \n",
       "94                                       Yes   \n",
       "13                                       Yes   \n",
       "88                                        No   \n",
       "\n",
       "   Do you participate in Debate, Quiz, Essay , Public Speaking  \\\n",
       "48                                                Yes            \n",
       "15                                                 No            \n",
       "94                                                 No            \n",
       "13                                                Yes            \n",
       "88                                                Yes            \n",
       "\n",
       "   Placement Indicator  Age  \n",
       "48                 Yes   20  \n",
       "15                 Yes   21  \n",
       "94                 Yes   21  \n",
       "13                 Yes   20  \n",
       "88                 Yes   18  "
      ]
     },
     "execution_count": 14,
     "metadata": {},
     "output_type": "execute_result"
    }
   ],
   "source": [
    "s_data[(s_data['Current CGPA']>=8) & (s_data['12th Result (percentage)']>=80) & (s_data['Placement Indicator']=='Yes')].sort_values(by='Current CGPA').head()"
   ]
  },
  {
   "cell_type": "code",
   "execution_count": 15,
   "id": "23912485-4457-41cb-aa15-62b6669a37e9",
   "metadata": {},
   "outputs": [],
   "source": [
    "data=s_data.drop(['Full Name','Timestamp','Age','Maths Score in 12th','English Score in 12th'],axis=1)"
   ]
  },
  {
   "cell_type": "code",
   "execution_count": 16,
   "id": "a237f63e-5192-4a30-ac88-6d4a4e5f1a78",
   "metadata": {},
   "outputs": [
    {
     "data": {
      "text/html": [
       "<div>\n",
       "<style scoped>\n",
       "    .dataframe tbody tr th:only-of-type {\n",
       "        vertical-align: middle;\n",
       "    }\n",
       "\n",
       "    .dataframe tbody tr th {\n",
       "        vertical-align: top;\n",
       "    }\n",
       "\n",
       "    .dataframe thead th {\n",
       "        text-align: right;\n",
       "    }\n",
       "</style>\n",
       "<table border=\"1\" class=\"dataframe\">\n",
       "  <thead>\n",
       "    <tr style=\"text-align: right;\">\n",
       "      <th></th>\n",
       "      <th>10th Result (percentage)</th>\n",
       "      <th>12th Result (percentage)</th>\n",
       "      <th>Medium of Instruction</th>\n",
       "      <th>Current CGPA</th>\n",
       "      <th>Do you participate in sports regularly</th>\n",
       "      <th>Do you participate in cultural activities</th>\n",
       "      <th>Do you participate in Debate, Quiz, Essay , Public Speaking</th>\n",
       "      <th>Placement Indicator</th>\n",
       "    </tr>\n",
       "  </thead>\n",
       "  <tbody>\n",
       "    <tr>\n",
       "      <th>0</th>\n",
       "      <td>74</td>\n",
       "      <td>76</td>\n",
       "      <td>Native language</td>\n",
       "      <td>7.85</td>\n",
       "      <td>Yes</td>\n",
       "      <td>No</td>\n",
       "      <td>No</td>\n",
       "      <td>Yes</td>\n",
       "    </tr>\n",
       "    <tr>\n",
       "      <th>1</th>\n",
       "      <td>75</td>\n",
       "      <td>87</td>\n",
       "      <td>Official language</td>\n",
       "      <td>7.85</td>\n",
       "      <td>Yes</td>\n",
       "      <td>No</td>\n",
       "      <td>No</td>\n",
       "      <td>Yes</td>\n",
       "    </tr>\n",
       "    <tr>\n",
       "      <th>2</th>\n",
       "      <td>79</td>\n",
       "      <td>84</td>\n",
       "      <td>Native language</td>\n",
       "      <td>8.88</td>\n",
       "      <td>No</td>\n",
       "      <td>No</td>\n",
       "      <td>No</td>\n",
       "      <td>No</td>\n",
       "    </tr>\n",
       "  </tbody>\n",
       "</table>\n",
       "</div>"
      ],
      "text/plain": [
       "   10th Result (percentage)  12th Result (percentage) Medium of Instruction  \\\n",
       "0                        74                        76       Native language   \n",
       "1                        75                        87     Official language   \n",
       "2                        79                        84       Native language   \n",
       "\n",
       "   Current CGPA Do you participate in sports regularly  \\\n",
       "0          7.85                                    Yes   \n",
       "1          7.85                                    Yes   \n",
       "2          8.88                                     No   \n",
       "\n",
       "  Do you participate in cultural activities  \\\n",
       "0                                        No   \n",
       "1                                        No   \n",
       "2                                        No   \n",
       "\n",
       "  Do you participate in Debate, Quiz, Essay , Public Speaking  \\\n",
       "0                                                 No            \n",
       "1                                                 No            \n",
       "2                                                 No            \n",
       "\n",
       "  Placement Indicator  \n",
       "0                 Yes  \n",
       "1                 Yes  \n",
       "2                  No  "
      ]
     },
     "execution_count": 16,
     "metadata": {},
     "output_type": "execute_result"
    }
   ],
   "source": [
    "data.head(3)"
   ]
  },
  {
   "cell_type": "code",
   "execution_count": 17,
   "id": "708dc144-a8ff-4102-8363-8c5423148ce2",
   "metadata": {},
   "outputs": [
    {
     "data": {
      "text/plain": [
       "array(['Native language', 'Official language', 'Others',\n",
       "       'Netive language'], dtype=object)"
      ]
     },
     "execution_count": 17,
     "metadata": {},
     "output_type": "execute_result"
    }
   ],
   "source": [
    "data['Medium of Instruction'].unique()"
   ]
  },
  {
   "cell_type": "code",
   "execution_count": 18,
   "id": "8da232d2-5b36-499b-8532-ad27e1062358",
   "metadata": {},
   "outputs": [],
   "source": [
    "data['Medium of Instruction']=data['Medium of Instruction'].map({'Official language':1,'Native language':0,'Netive language':0,'Others':0})"
   ]
  },
  {
   "cell_type": "code",
   "execution_count": 19,
   "id": "c2fa879e-efbe-4c61-b35d-889d81eb0159",
   "metadata": {},
   "outputs": [
    {
     "data": {
      "text/plain": [
       "array(['Yes', 'No'], dtype=object)"
      ]
     },
     "execution_count": 19,
     "metadata": {},
     "output_type": "execute_result"
    }
   ],
   "source": [
    "data['Do you participate in sports regularly'].unique()"
   ]
  },
  {
   "cell_type": "code",
   "execution_count": 20,
   "id": "f6f90b9e-5019-4aeb-9f6f-8f02cfe191ae",
   "metadata": {},
   "outputs": [],
   "source": [
    "data['Do you participate in sports regularly']=data['Do you participate in sports regularly'].map({'Yes':1,'No':0})"
   ]
  },
  {
   "cell_type": "code",
   "execution_count": 21,
   "id": "40c55e6c-2fb0-41fe-9b6d-5df87c021071",
   "metadata": {},
   "outputs": [
    {
     "data": {
      "text/plain": [
       "array(['No', 'Yes'], dtype=object)"
      ]
     },
     "execution_count": 21,
     "metadata": {},
     "output_type": "execute_result"
    }
   ],
   "source": [
    "data['Do you participate in cultural activities'].unique()"
   ]
  },
  {
   "cell_type": "code",
   "execution_count": 22,
   "id": "8f7f7b43-1711-4686-bedd-c13ccdb8a239",
   "metadata": {},
   "outputs": [],
   "source": [
    "data['Do you participate in cultural activities']=data['Do you participate in cultural activities'].map({'Yes':1,'No':0})"
   ]
  },
  {
   "cell_type": "code",
   "execution_count": 23,
   "id": "bbb485c9-2bc8-4107-bca3-b56b0de8bf6e",
   "metadata": {},
   "outputs": [
    {
     "data": {
      "text/plain": [
       "array(['No', 'Yes'], dtype=object)"
      ]
     },
     "execution_count": 23,
     "metadata": {},
     "output_type": "execute_result"
    }
   ],
   "source": [
    "data['Do you participate in Debate, Quiz, Essay , Public Speaking'].unique()"
   ]
  },
  {
   "cell_type": "code",
   "execution_count": 24,
   "id": "dbd6f2c8-35f2-491b-a8f8-63ee5067706e",
   "metadata": {},
   "outputs": [],
   "source": [
    "data['Do you participate in Debate, Quiz, Essay , Public Speaking']=data['Do you participate in Debate, Quiz, Essay , Public Speaking'].map({'Yes':1,'No':0})"
   ]
  },
  {
   "cell_type": "code",
   "execution_count": 25,
   "id": "14c45cf6-8a6a-4a40-98d0-6e8977089f21",
   "metadata": {},
   "outputs": [
    {
     "data": {
      "text/plain": [
       "array(['Yes', 'No'], dtype=object)"
      ]
     },
     "execution_count": 25,
     "metadata": {},
     "output_type": "execute_result"
    }
   ],
   "source": [
    "data['Placement Indicator'].unique()"
   ]
  },
  {
   "cell_type": "code",
   "execution_count": 26,
   "id": "db013146-492b-4a68-bf78-8bbdbecbc702",
   "metadata": {},
   "outputs": [],
   "source": [
    "data['Placement Indicator']=data['Placement Indicator'].map({'Yes':1,'No':0})"
   ]
  },
  {
   "cell_type": "code",
   "execution_count": 27,
   "id": "c2afc170-5b95-4487-84cf-b87cc80eca5f",
   "metadata": {},
   "outputs": [
    {
     "data": {
      "text/html": [
       "<div>\n",
       "<style scoped>\n",
       "    .dataframe tbody tr th:only-of-type {\n",
       "        vertical-align: middle;\n",
       "    }\n",
       "\n",
       "    .dataframe tbody tr th {\n",
       "        vertical-align: top;\n",
       "    }\n",
       "\n",
       "    .dataframe thead th {\n",
       "        text-align: right;\n",
       "    }\n",
       "</style>\n",
       "<table border=\"1\" class=\"dataframe\">\n",
       "  <thead>\n",
       "    <tr style=\"text-align: right;\">\n",
       "      <th></th>\n",
       "      <th>10th Result (percentage)</th>\n",
       "      <th>12th Result (percentage)</th>\n",
       "      <th>Medium of Instruction</th>\n",
       "      <th>Current CGPA</th>\n",
       "      <th>Do you participate in sports regularly</th>\n",
       "      <th>Do you participate in cultural activities</th>\n",
       "      <th>Do you participate in Debate, Quiz, Essay , Public Speaking</th>\n",
       "      <th>Placement Indicator</th>\n",
       "    </tr>\n",
       "  </thead>\n",
       "  <tbody>\n",
       "    <tr>\n",
       "      <th>count</th>\n",
       "      <td>132.000000</td>\n",
       "      <td>132.000000</td>\n",
       "      <td>132.000000</td>\n",
       "      <td>132.000000</td>\n",
       "      <td>132.000000</td>\n",
       "      <td>132.000000</td>\n",
       "      <td>132.000000</td>\n",
       "      <td>132.000000</td>\n",
       "    </tr>\n",
       "    <tr>\n",
       "      <th>mean</th>\n",
       "      <td>80.333333</td>\n",
       "      <td>85.969697</td>\n",
       "      <td>0.409091</td>\n",
       "      <td>8.403106</td>\n",
       "      <td>0.424242</td>\n",
       "      <td>0.545455</td>\n",
       "      <td>0.424242</td>\n",
       "      <td>0.431818</td>\n",
       "    </tr>\n",
       "    <tr>\n",
       "      <th>std</th>\n",
       "      <td>11.069294</td>\n",
       "      <td>8.037070</td>\n",
       "      <td>0.493539</td>\n",
       "      <td>6.508802</td>\n",
       "      <td>0.496110</td>\n",
       "      <td>0.499826</td>\n",
       "      <td>0.496110</td>\n",
       "      <td>0.497216</td>\n",
       "    </tr>\n",
       "    <tr>\n",
       "      <th>min</th>\n",
       "      <td>50.000000</td>\n",
       "      <td>56.000000</td>\n",
       "      <td>0.000000</td>\n",
       "      <td>4.400000</td>\n",
       "      <td>0.000000</td>\n",
       "      <td>0.000000</td>\n",
       "      <td>0.000000</td>\n",
       "      <td>0.000000</td>\n",
       "    </tr>\n",
       "    <tr>\n",
       "      <th>25%</th>\n",
       "      <td>73.000000</td>\n",
       "      <td>81.000000</td>\n",
       "      <td>0.000000</td>\n",
       "      <td>7.300000</td>\n",
       "      <td>0.000000</td>\n",
       "      <td>0.000000</td>\n",
       "      <td>0.000000</td>\n",
       "      <td>0.000000</td>\n",
       "    </tr>\n",
       "    <tr>\n",
       "      <th>50%</th>\n",
       "      <td>80.500000</td>\n",
       "      <td>88.000000</td>\n",
       "      <td>0.000000</td>\n",
       "      <td>7.850000</td>\n",
       "      <td>0.000000</td>\n",
       "      <td>1.000000</td>\n",
       "      <td>0.000000</td>\n",
       "      <td>0.000000</td>\n",
       "    </tr>\n",
       "    <tr>\n",
       "      <th>75%</th>\n",
       "      <td>88.250000</td>\n",
       "      <td>92.000000</td>\n",
       "      <td>1.000000</td>\n",
       "      <td>8.622500</td>\n",
       "      <td>1.000000</td>\n",
       "      <td>1.000000</td>\n",
       "      <td>1.000000</td>\n",
       "      <td>1.000000</td>\n",
       "    </tr>\n",
       "    <tr>\n",
       "      <th>max</th>\n",
       "      <td>100.000000</td>\n",
       "      <td>100.000000</td>\n",
       "      <td>1.000000</td>\n",
       "      <td>81.600000</td>\n",
       "      <td>1.000000</td>\n",
       "      <td>1.000000</td>\n",
       "      <td>1.000000</td>\n",
       "      <td>1.000000</td>\n",
       "    </tr>\n",
       "  </tbody>\n",
       "</table>\n",
       "</div>"
      ],
      "text/plain": [
       "       10th Result (percentage)  12th Result (percentage)  \\\n",
       "count                132.000000                132.000000   \n",
       "mean                  80.333333                 85.969697   \n",
       "std                   11.069294                  8.037070   \n",
       "min                   50.000000                 56.000000   \n",
       "25%                   73.000000                 81.000000   \n",
       "50%                   80.500000                 88.000000   \n",
       "75%                   88.250000                 92.000000   \n",
       "max                  100.000000                100.000000   \n",
       "\n",
       "       Medium of Instruction  Current CGPA  \\\n",
       "count             132.000000    132.000000   \n",
       "mean                0.409091      8.403106   \n",
       "std                 0.493539      6.508802   \n",
       "min                 0.000000      4.400000   \n",
       "25%                 0.000000      7.300000   \n",
       "50%                 0.000000      7.850000   \n",
       "75%                 1.000000      8.622500   \n",
       "max                 1.000000     81.600000   \n",
       "\n",
       "       Do you participate in sports regularly  \\\n",
       "count                              132.000000   \n",
       "mean                                 0.424242   \n",
       "std                                  0.496110   \n",
       "min                                  0.000000   \n",
       "25%                                  0.000000   \n",
       "50%                                  0.000000   \n",
       "75%                                  1.000000   \n",
       "max                                  1.000000   \n",
       "\n",
       "       Do you participate in cultural activities  \\\n",
       "count                                 132.000000   \n",
       "mean                                    0.545455   \n",
       "std                                     0.499826   \n",
       "min                                     0.000000   \n",
       "25%                                     0.000000   \n",
       "50%                                     1.000000   \n",
       "75%                                     1.000000   \n",
       "max                                     1.000000   \n",
       "\n",
       "       Do you participate in Debate, Quiz, Essay , Public Speaking  \\\n",
       "count                                         132.000000             \n",
       "mean                                            0.424242             \n",
       "std                                             0.496110             \n",
       "min                                             0.000000             \n",
       "25%                                             0.000000             \n",
       "50%                                             0.000000             \n",
       "75%                                             1.000000             \n",
       "max                                             1.000000             \n",
       "\n",
       "       Placement Indicator  \n",
       "count           132.000000  \n",
       "mean              0.431818  \n",
       "std               0.497216  \n",
       "min               0.000000  \n",
       "25%               0.000000  \n",
       "50%               0.000000  \n",
       "75%               1.000000  \n",
       "max               1.000000  "
      ]
     },
     "execution_count": 27,
     "metadata": {},
     "output_type": "execute_result"
    }
   ],
   "source": [
    "data.describe()"
   ]
  },
  {
   "cell_type": "code",
   "execution_count": 28,
   "id": "d891412b-29ad-4537-9380-8ea6b2dfdf56",
   "metadata": {},
   "outputs": [
    {
     "name": "stdout",
     "output_type": "stream",
     "text": [
      "<class 'pandas.core.frame.DataFrame'>\n",
      "RangeIndex: 132 entries, 0 to 131\n",
      "Data columns (total 8 columns):\n",
      " #   Column                                                       Non-Null Count  Dtype  \n",
      "---  ------                                                       --------------  -----  \n",
      " 0   10th Result (percentage)                                     132 non-null    int64  \n",
      " 1   12th Result (percentage)                                     132 non-null    int64  \n",
      " 2   Medium of Instruction                                        132 non-null    int64  \n",
      " 3   Current CGPA                                                 132 non-null    float64\n",
      " 4   Do you participate in sports regularly                       132 non-null    int64  \n",
      " 5   Do you participate in cultural activities                    132 non-null    int64  \n",
      " 6   Do you participate in Debate, Quiz, Essay , Public Speaking  132 non-null    int64  \n",
      " 7   Placement Indicator                                          132 non-null    int64  \n",
      "dtypes: float64(1), int64(7)\n",
      "memory usage: 8.4 KB\n"
     ]
    }
   ],
   "source": [
    "data.info()"
   ]
  },
  {
   "cell_type": "code",
   "execution_count": 29,
   "id": "10fe9dd2-ae67-47eb-967e-ca9ba2db0347",
   "metadata": {},
   "outputs": [
    {
     "data": {
      "text/html": [
       "<div>\n",
       "<style scoped>\n",
       "    .dataframe tbody tr th:only-of-type {\n",
       "        vertical-align: middle;\n",
       "    }\n",
       "\n",
       "    .dataframe tbody tr th {\n",
       "        vertical-align: top;\n",
       "    }\n",
       "\n",
       "    .dataframe thead th {\n",
       "        text-align: right;\n",
       "    }\n",
       "</style>\n",
       "<table border=\"1\" class=\"dataframe\">\n",
       "  <thead>\n",
       "    <tr style=\"text-align: right;\">\n",
       "      <th></th>\n",
       "      <th>10th Result (percentage)</th>\n",
       "      <th>12th Result (percentage)</th>\n",
       "      <th>Medium of Instruction</th>\n",
       "      <th>Current CGPA</th>\n",
       "      <th>Do you participate in sports regularly</th>\n",
       "      <th>Do you participate in cultural activities</th>\n",
       "      <th>Do you participate in Debate, Quiz, Essay , Public Speaking</th>\n",
       "      <th>Placement Indicator</th>\n",
       "    </tr>\n",
       "  </thead>\n",
       "  <tbody>\n",
       "    <tr>\n",
       "      <th>0</th>\n",
       "      <td>74</td>\n",
       "      <td>76</td>\n",
       "      <td>0</td>\n",
       "      <td>7.85</td>\n",
       "      <td>1</td>\n",
       "      <td>0</td>\n",
       "      <td>0</td>\n",
       "      <td>1</td>\n",
       "    </tr>\n",
       "    <tr>\n",
       "      <th>1</th>\n",
       "      <td>75</td>\n",
       "      <td>87</td>\n",
       "      <td>1</td>\n",
       "      <td>7.85</td>\n",
       "      <td>1</td>\n",
       "      <td>0</td>\n",
       "      <td>0</td>\n",
       "      <td>1</td>\n",
       "    </tr>\n",
       "    <tr>\n",
       "      <th>2</th>\n",
       "      <td>79</td>\n",
       "      <td>84</td>\n",
       "      <td>0</td>\n",
       "      <td>8.88</td>\n",
       "      <td>0</td>\n",
       "      <td>0</td>\n",
       "      <td>0</td>\n",
       "      <td>0</td>\n",
       "    </tr>\n",
       "    <tr>\n",
       "      <th>3</th>\n",
       "      <td>65</td>\n",
       "      <td>91</td>\n",
       "      <td>0</td>\n",
       "      <td>8.50</td>\n",
       "      <td>1</td>\n",
       "      <td>1</td>\n",
       "      <td>1</td>\n",
       "      <td>1</td>\n",
       "    </tr>\n",
       "    <tr>\n",
       "      <th>4</th>\n",
       "      <td>77</td>\n",
       "      <td>78</td>\n",
       "      <td>1</td>\n",
       "      <td>7.56</td>\n",
       "      <td>0</td>\n",
       "      <td>1</td>\n",
       "      <td>1</td>\n",
       "      <td>0</td>\n",
       "    </tr>\n",
       "  </tbody>\n",
       "</table>\n",
       "</div>"
      ],
      "text/plain": [
       "   10th Result (percentage)  12th Result (percentage)  Medium of Instruction  \\\n",
       "0                        74                        76                      0   \n",
       "1                        75                        87                      1   \n",
       "2                        79                        84                      0   \n",
       "3                        65                        91                      0   \n",
       "4                        77                        78                      1   \n",
       "\n",
       "   Current CGPA  Do you participate in sports regularly  \\\n",
       "0          7.85                                       1   \n",
       "1          7.85                                       1   \n",
       "2          8.88                                       0   \n",
       "3          8.50                                       1   \n",
       "4          7.56                                       0   \n",
       "\n",
       "   Do you participate in cultural activities  \\\n",
       "0                                          0   \n",
       "1                                          0   \n",
       "2                                          0   \n",
       "3                                          1   \n",
       "4                                          1   \n",
       "\n",
       "   Do you participate in Debate, Quiz, Essay , Public Speaking  \\\n",
       "0                                                  0             \n",
       "1                                                  0             \n",
       "2                                                  0             \n",
       "3                                                  1             \n",
       "4                                                  1             \n",
       "\n",
       "   Placement Indicator  \n",
       "0                    1  \n",
       "1                    1  \n",
       "2                    0  \n",
       "3                    1  \n",
       "4                    0  "
      ]
     },
     "execution_count": 29,
     "metadata": {},
     "output_type": "execute_result"
    }
   ],
   "source": [
    "data.head()"
   ]
  },
  {
   "cell_type": "code",
   "execution_count": 30,
   "id": "0f38483f-2df4-497f-b2f3-c100c57c51dd",
   "metadata": {},
   "outputs": [],
   "source": [
    "x=data.drop('Placement Indicator',axis=1)\n",
    "y=data['Placement Indicator']"
   ]
  },
  {
   "cell_type": "code",
   "execution_count": 31,
   "id": "005390dd-ab33-4b4f-a363-c80c4d49f37e",
   "metadata": {},
   "outputs": [
    {
     "data": {
      "text/plain": [
       "0    1\n",
       "1    1\n",
       "2    0\n",
       "3    1\n",
       "4    0\n",
       "Name: Placement Indicator, dtype: int64"
      ]
     },
     "execution_count": 31,
     "metadata": {},
     "output_type": "execute_result"
    }
   ],
   "source": [
    "y.head(5)"
   ]
  },
  {
   "cell_type": "code",
   "execution_count": 32,
   "id": "c1e65471-1de4-4a33-a6b0-796f231be247",
   "metadata": {},
   "outputs": [
    {
     "data": {
      "text/html": [
       "<div>\n",
       "<style scoped>\n",
       "    .dataframe tbody tr th:only-of-type {\n",
       "        vertical-align: middle;\n",
       "    }\n",
       "\n",
       "    .dataframe tbody tr th {\n",
       "        vertical-align: top;\n",
       "    }\n",
       "\n",
       "    .dataframe thead th {\n",
       "        text-align: right;\n",
       "    }\n",
       "</style>\n",
       "<table border=\"1\" class=\"dataframe\">\n",
       "  <thead>\n",
       "    <tr style=\"text-align: right;\">\n",
       "      <th></th>\n",
       "      <th>10th Result (percentage)</th>\n",
       "      <th>12th Result (percentage)</th>\n",
       "      <th>Medium of Instruction</th>\n",
       "      <th>Current CGPA</th>\n",
       "      <th>Do you participate in sports regularly</th>\n",
       "      <th>Do you participate in cultural activities</th>\n",
       "      <th>Do you participate in Debate, Quiz, Essay , Public Speaking</th>\n",
       "    </tr>\n",
       "  </thead>\n",
       "  <tbody>\n",
       "    <tr>\n",
       "      <th>0</th>\n",
       "      <td>74</td>\n",
       "      <td>76</td>\n",
       "      <td>0</td>\n",
       "      <td>7.85</td>\n",
       "      <td>1</td>\n",
       "      <td>0</td>\n",
       "      <td>0</td>\n",
       "    </tr>\n",
       "    <tr>\n",
       "      <th>1</th>\n",
       "      <td>75</td>\n",
       "      <td>87</td>\n",
       "      <td>1</td>\n",
       "      <td>7.85</td>\n",
       "      <td>1</td>\n",
       "      <td>0</td>\n",
       "      <td>0</td>\n",
       "    </tr>\n",
       "    <tr>\n",
       "      <th>2</th>\n",
       "      <td>79</td>\n",
       "      <td>84</td>\n",
       "      <td>0</td>\n",
       "      <td>8.88</td>\n",
       "      <td>0</td>\n",
       "      <td>0</td>\n",
       "      <td>0</td>\n",
       "    </tr>\n",
       "    <tr>\n",
       "      <th>3</th>\n",
       "      <td>65</td>\n",
       "      <td>91</td>\n",
       "      <td>0</td>\n",
       "      <td>8.50</td>\n",
       "      <td>1</td>\n",
       "      <td>1</td>\n",
       "      <td>1</td>\n",
       "    </tr>\n",
       "    <tr>\n",
       "      <th>4</th>\n",
       "      <td>77</td>\n",
       "      <td>78</td>\n",
       "      <td>1</td>\n",
       "      <td>7.56</td>\n",
       "      <td>0</td>\n",
       "      <td>1</td>\n",
       "      <td>1</td>\n",
       "    </tr>\n",
       "  </tbody>\n",
       "</table>\n",
       "</div>"
      ],
      "text/plain": [
       "   10th Result (percentage)  12th Result (percentage)  Medium of Instruction  \\\n",
       "0                        74                        76                      0   \n",
       "1                        75                        87                      1   \n",
       "2                        79                        84                      0   \n",
       "3                        65                        91                      0   \n",
       "4                        77                        78                      1   \n",
       "\n",
       "   Current CGPA  Do you participate in sports regularly  \\\n",
       "0          7.85                                       1   \n",
       "1          7.85                                       1   \n",
       "2          8.88                                       0   \n",
       "3          8.50                                       1   \n",
       "4          7.56                                       0   \n",
       "\n",
       "   Do you participate in cultural activities  \\\n",
       "0                                          0   \n",
       "1                                          0   \n",
       "2                                          0   \n",
       "3                                          1   \n",
       "4                                          1   \n",
       "\n",
       "   Do you participate in Debate, Quiz, Essay , Public Speaking  \n",
       "0                                                  0            \n",
       "1                                                  0            \n",
       "2                                                  0            \n",
       "3                                                  1            \n",
       "4                                                  1            "
      ]
     },
     "execution_count": 32,
     "metadata": {},
     "output_type": "execute_result"
    }
   ],
   "source": [
    "x.head()"
   ]
  },
  {
   "cell_type": "code",
   "execution_count": 33,
   "id": "9cc9a7f2-21f0-4202-a89d-3aaea076eab8",
   "metadata": {},
   "outputs": [],
   "source": [
    "from sklearn.model_selection import train_test_split"
   ]
  },
  {
   "cell_type": "code",
   "execution_count": 34,
   "id": "81ab0c72-bacd-4f89-a1f8-937495b39295",
   "metadata": {},
   "outputs": [],
   "source": [
    "x_train,x_test,y_train,y_test=train_test_split(x,y,test_size=0.20,random_state=42)"
   ]
  },
  {
   "cell_type": "code",
   "execution_count": 35,
   "id": "657ba9f0-9c4b-46bb-b8e0-b897debd55ae",
   "metadata": {},
   "outputs": [
    {
     "data": {
      "text/plain": [
       "0    1\n",
       "1    1\n",
       "2    0\n",
       "3    1\n",
       "4    0\n",
       "Name: Placement Indicator, dtype: int64"
      ]
     },
     "execution_count": 35,
     "metadata": {},
     "output_type": "execute_result"
    }
   ],
   "source": [
    "x.head()\n",
    "y.head()"
   ]
  },
  {
   "cell_type": "code",
   "execution_count": 36,
   "id": "7d8d7eeb-5a3f-4724-b2de-811bfac625b0",
   "metadata": {},
   "outputs": [],
   "source": [
    "from sklearn.linear_model import LogisticRegression\n",
    "from sklearn.neighbors import KNeighborsClassifier\n",
    "from sklearn import svm\n",
    "from sklearn.svm import SVC\n",
    "from sklearn.tree import DecisionTreeClassifier\n",
    "from sklearn.ensemble import RandomForestClassifier\n",
    "from sklearn.ensemble import GradientBoostingClassifier"
   ]
  },
  {
   "cell_type": "code",
   "execution_count": 37,
   "id": "7713a48e-344e-4f37-9d9b-667cf0e821d7",
   "metadata": {},
   "outputs": [
    {
     "data": {
      "text/html": [
       "<style>#sk-container-id-1 {color: black;background-color: white;}#sk-container-id-1 pre{padding: 0;}#sk-container-id-1 div.sk-toggleable {background-color: white;}#sk-container-id-1 label.sk-toggleable__label {cursor: pointer;display: block;width: 100%;margin-bottom: 0;padding: 0.3em;box-sizing: border-box;text-align: center;}#sk-container-id-1 label.sk-toggleable__label-arrow:before {content: \"▸\";float: left;margin-right: 0.25em;color: #696969;}#sk-container-id-1 label.sk-toggleable__label-arrow:hover:before {color: black;}#sk-container-id-1 div.sk-estimator:hover label.sk-toggleable__label-arrow:before {color: black;}#sk-container-id-1 div.sk-toggleable__content {max-height: 0;max-width: 0;overflow: hidden;text-align: left;background-color: #f0f8ff;}#sk-container-id-1 div.sk-toggleable__content pre {margin: 0.2em;color: black;border-radius: 0.25em;background-color: #f0f8ff;}#sk-container-id-1 input.sk-toggleable__control:checked~div.sk-toggleable__content {max-height: 200px;max-width: 100%;overflow: auto;}#sk-container-id-1 input.sk-toggleable__control:checked~label.sk-toggleable__label-arrow:before {content: \"▾\";}#sk-container-id-1 div.sk-estimator input.sk-toggleable__control:checked~label.sk-toggleable__label {background-color: #d4ebff;}#sk-container-id-1 div.sk-label input.sk-toggleable__control:checked~label.sk-toggleable__label {background-color: #d4ebff;}#sk-container-id-1 input.sk-hidden--visually {border: 0;clip: rect(1px 1px 1px 1px);clip: rect(1px, 1px, 1px, 1px);height: 1px;margin: -1px;overflow: hidden;padding: 0;position: absolute;width: 1px;}#sk-container-id-1 div.sk-estimator {font-family: monospace;background-color: #f0f8ff;border: 1px dotted black;border-radius: 0.25em;box-sizing: border-box;margin-bottom: 0.5em;}#sk-container-id-1 div.sk-estimator:hover {background-color: #d4ebff;}#sk-container-id-1 div.sk-parallel-item::after {content: \"\";width: 100%;border-bottom: 1px solid gray;flex-grow: 1;}#sk-container-id-1 div.sk-label:hover label.sk-toggleable__label {background-color: #d4ebff;}#sk-container-id-1 div.sk-serial::before {content: \"\";position: absolute;border-left: 1px solid gray;box-sizing: border-box;top: 0;bottom: 0;left: 50%;z-index: 0;}#sk-container-id-1 div.sk-serial {display: flex;flex-direction: column;align-items: center;background-color: white;padding-right: 0.2em;padding-left: 0.2em;position: relative;}#sk-container-id-1 div.sk-item {position: relative;z-index: 1;}#sk-container-id-1 div.sk-parallel {display: flex;align-items: stretch;justify-content: center;background-color: white;position: relative;}#sk-container-id-1 div.sk-item::before, #sk-container-id-1 div.sk-parallel-item::before {content: \"\";position: absolute;border-left: 1px solid gray;box-sizing: border-box;top: 0;bottom: 0;left: 50%;z-index: -1;}#sk-container-id-1 div.sk-parallel-item {display: flex;flex-direction: column;z-index: 1;position: relative;background-color: white;}#sk-container-id-1 div.sk-parallel-item:first-child::after {align-self: flex-end;width: 50%;}#sk-container-id-1 div.sk-parallel-item:last-child::after {align-self: flex-start;width: 50%;}#sk-container-id-1 div.sk-parallel-item:only-child::after {width: 0;}#sk-container-id-1 div.sk-dashed-wrapped {border: 1px dashed gray;margin: 0 0.4em 0.5em 0.4em;box-sizing: border-box;padding-bottom: 0.4em;background-color: white;}#sk-container-id-1 div.sk-label label {font-family: monospace;font-weight: bold;display: inline-block;line-height: 1.2em;}#sk-container-id-1 div.sk-label-container {text-align: center;}#sk-container-id-1 div.sk-container {/* jupyter's `normalize.less` sets `[hidden] { display: none; }` but bootstrap.min.css set `[hidden] { display: none !important; }` so we also need the `!important` here to be able to override the default hidden behavior on the sphinx rendered scikit-learn.org. See: https://github.com/scikit-learn/scikit-learn/issues/21755 */display: inline-block !important;position: relative;}#sk-container-id-1 div.sk-text-repr-fallback {display: none;}</style><div id=\"sk-container-id-1\" class=\"sk-top-container\"><div class=\"sk-text-repr-fallback\"><pre>GradientBoostingClassifier()</pre><b>In a Jupyter environment, please rerun this cell to show the HTML representation or trust the notebook. <br />On GitHub, the HTML representation is unable to render, please try loading this page with nbviewer.org.</b></div><div class=\"sk-container\" hidden><div class=\"sk-item\"><div class=\"sk-estimator sk-toggleable\"><input class=\"sk-toggleable__control sk-hidden--visually\" id=\"sk-estimator-id-1\" type=\"checkbox\" checked><label for=\"sk-estimator-id-1\" class=\"sk-toggleable__label sk-toggleable__label-arrow\">GradientBoostingClassifier</label><div class=\"sk-toggleable__content\"><pre>GradientBoostingClassifier()</pre></div></div></div></div></div>"
      ],
      "text/plain": [
       "GradientBoostingClassifier()"
      ]
     },
     "execution_count": 37,
     "metadata": {},
     "output_type": "execute_result"
    }
   ],
   "source": [
    "lr=LogisticRegression()\n",
    "lr.fit(x_train,y_train)\n",
    "\n",
    "svm=svm.SVC()\n",
    "svm.fit(x_train,y_train)\n",
    "\n",
    "knn=KNeighborsClassifier()\n",
    "knn.fit(x_train,y_train)\n",
    "\n",
    "dt=DecisionTreeClassifier()\n",
    "dt.fit(x_train,y_train)\n",
    "\n",
    "rf=RandomForestClassifier()\n",
    "rf.fit(x_train,y_train)\n",
    "\n",
    "gb=GradientBoostingClassifier()\n",
    "gb.fit(x_train,y_train)"
   ]
  },
  {
   "cell_type": "code",
   "execution_count": 38,
   "id": "dea7fb0d-631c-4051-b0ae-5a093bbe14b2",
   "metadata": {},
   "outputs": [],
   "source": [
    "y_pred1=lr.predict(x_test)\n",
    "y_pred2=svm.predict(x_test)\n",
    "y_pred3=knn.predict(x_test)\n",
    "y_pred4=dt.predict(x_test)\n",
    "y_pred5=rf.predict(x_test)\n",
    "y_pred6=gb.predict(x_test)"
   ]
  },
  {
   "cell_type": "code",
   "execution_count": 39,
   "id": "81bee184-7cab-47eb-8289-cea2c1709575",
   "metadata": {},
   "outputs": [],
   "source": [
    "from sklearn.metrics import accuracy_score"
   ]
  },
  {
   "cell_type": "code",
   "execution_count": 40,
   "id": "45a24fe4-2cc1-4954-b702-61f6c34d1d81",
   "metadata": {},
   "outputs": [],
   "source": [
    "score1=accuracy_score(y_test,y_pred1)\n",
    "score2=accuracy_score(y_test,y_pred2)\n",
    "score3=accuracy_score(y_test,y_pred3)\n",
    "score4=accuracy_score(y_test,y_pred4)\n",
    "score5=accuracy_score(y_test,y_pred5)\n",
    "score6=accuracy_score(y_test,y_pred6)"
   ]
  },
  {
   "cell_type": "code",
   "execution_count": 41,
   "id": "ac48184a-d319-4113-af39-9c084cc4cd8f",
   "metadata": {},
   "outputs": [
    {
     "name": "stdout",
     "output_type": "stream",
     "text": [
      "0.5925925925925926 0.5185185185185185 0.6666666666666666 0.5925925925925926 0.6666666666666666 0.5925925925925926\n"
     ]
    }
   ],
   "source": [
    "print(score1,score2,score3,score4,score5,score6)"
   ]
  },
  {
   "cell_type": "code",
   "execution_count": 42,
   "id": "225592e6-1e21-4d4f-8373-a1c8482f92c3",
   "metadata": {},
   "outputs": [],
   "source": [
    "all_model_accurecy=pd.DataFrame({\n",
    "    'algorithem':['lr','svm','knn','dt','rf','gb'],\n",
    "    'accurecy':[score1*100,score2*100,score3*100,score4*100,score5*100,score6*100]\n",
    "})"
   ]
  },
  {
   "cell_type": "code",
   "execution_count": 43,
   "id": "4cdd4123-70ef-4056-ace4-2995ea154f0f",
   "metadata": {},
   "outputs": [
    {
     "data": {
      "text/html": [
       "<div>\n",
       "<style scoped>\n",
       "    .dataframe tbody tr th:only-of-type {\n",
       "        vertical-align: middle;\n",
       "    }\n",
       "\n",
       "    .dataframe tbody tr th {\n",
       "        vertical-align: top;\n",
       "    }\n",
       "\n",
       "    .dataframe thead th {\n",
       "        text-align: right;\n",
       "    }\n",
       "</style>\n",
       "<table border=\"1\" class=\"dataframe\">\n",
       "  <thead>\n",
       "    <tr style=\"text-align: right;\">\n",
       "      <th></th>\n",
       "      <th>algorithem</th>\n",
       "      <th>accurecy</th>\n",
       "    </tr>\n",
       "  </thead>\n",
       "  <tbody>\n",
       "    <tr>\n",
       "      <th>0</th>\n",
       "      <td>lr</td>\n",
       "      <td>59.259259</td>\n",
       "    </tr>\n",
       "    <tr>\n",
       "      <th>1</th>\n",
       "      <td>svm</td>\n",
       "      <td>51.851852</td>\n",
       "    </tr>\n",
       "    <tr>\n",
       "      <th>2</th>\n",
       "      <td>knn</td>\n",
       "      <td>66.666667</td>\n",
       "    </tr>\n",
       "    <tr>\n",
       "      <th>3</th>\n",
       "      <td>dt</td>\n",
       "      <td>59.259259</td>\n",
       "    </tr>\n",
       "    <tr>\n",
       "      <th>4</th>\n",
       "      <td>rf</td>\n",
       "      <td>66.666667</td>\n",
       "    </tr>\n",
       "    <tr>\n",
       "      <th>5</th>\n",
       "      <td>gb</td>\n",
       "      <td>59.259259</td>\n",
       "    </tr>\n",
       "  </tbody>\n",
       "</table>\n",
       "</div>"
      ],
      "text/plain": [
       "  algorithem   accurecy\n",
       "0         lr  59.259259\n",
       "1        svm  51.851852\n",
       "2        knn  66.666667\n",
       "3         dt  59.259259\n",
       "4         rf  66.666667\n",
       "5         gb  59.259259"
      ]
     },
     "execution_count": 43,
     "metadata": {},
     "output_type": "execute_result"
    }
   ],
   "source": [
    "all_model_accurecy"
   ]
  },
  {
   "cell_type": "code",
   "execution_count": 44,
   "id": "9b128b9b-c1f3-4a62-8f1f-2b00a048cd82",
   "metadata": {},
   "outputs": [],
   "source": [
    "import seaborn as sns"
   ]
  },
  {
   "cell_type": "code",
   "execution_count": 45,
   "id": "e2521091-16e7-4d1b-ae1c-f77fc346dae5",
   "metadata": {},
   "outputs": [
    {
     "data": {
      "text/plain": [
       "<Axes: xlabel='algorithem', ylabel='accurecy'>"
      ]
     },
     "execution_count": 45,
     "metadata": {},
     "output_type": "execute_result"
    },
    {
     "data": {
      "image/png": "[encoded data removed]",
      "text/plain": [
       "<Figure size 640x480 with 1 Axes>"
      ]
     },
     "metadata": {},
     "output_type": "display_data"
    }
   ],
   "source": [
    "sns.barplot(x='algorithem',y='accurecy',data=all_model_accurecy)"
   ]
  },
  {
   "cell_type": "code",
   "execution_count": 46,
   "id": "3ace2e23-0d43-4a01-801a-a54047174d0a",
   "metadata": {},
   "outputs": [
    {
     "data": {
      "text/html": [
       "<style>#sk-container-id-2 {color: black;background-color: white;}#sk-container-id-2 pre{padding: 0;}#sk-container-id-2 div.sk-toggleable {background-color: white;}#sk-container-id-2 label.sk-toggleable__label {cursor: pointer;display: block;width: 100%;margin-bottom: 0;padding: 0.3em;box-sizing: border-box;text-align: center;}#sk-container-id-2 label.sk-toggleable__label-arrow:before {content: \"▸\";float: left;margin-right: 0.25em;color: #696969;}#sk-container-id-2 label.sk-toggleable__label-arrow:hover:before {color: black;}#sk-container-id-2 div.sk-estimator:hover label.sk-toggleable__label-arrow:before {color: black;}#sk-container-id-2 div.sk-toggleable__content {max-height: 0;max-width: 0;overflow: hidden;text-align: left;background-color: #f0f8ff;}#sk-container-id-2 div.sk-toggleable__content pre {margin: 0.2em;color: black;border-radius: 0.25em;background-color: #f0f8ff;}#sk-container-id-2 input.sk-toggleable__control:checked~div.sk-toggleable__content {max-height: 200px;max-width: 100%;overflow: auto;}#sk-container-id-2 input.sk-toggleable__control:checked~label.sk-toggleable__label-arrow:before {content: \"▾\";}#sk-container-id-2 div.sk-estimator input.sk-toggleable__control:checked~label.sk-toggleable__label {background-color: #d4ebff;}#sk-container-id-2 div.sk-label input.sk-toggleable__control:checked~label.sk-toggleable__label {background-color: #d4ebff;}#sk-container-id-2 input.sk-hidden--visually {border: 0;clip: rect(1px 1px 1px 1px);clip: rect(1px, 1px, 1px, 1px);height: 1px;margin: -1px;overflow: hidden;padding: 0;position: absolute;width: 1px;}#sk-container-id-2 div.sk-estimator {font-family: monospace;background-color: #f0f8ff;border: 1px dotted black;border-radius: 0.25em;box-sizing: border-box;margin-bottom: 0.5em;}#sk-container-id-2 div.sk-estimator:hover {background-color: #d4ebff;}#sk-container-id-2 div.sk-parallel-item::after {content: \"\";width: 100%;border-bottom: 1px solid gray;flex-grow: 1;}#sk-container-id-2 div.sk-label:hover label.sk-toggleable__label {background-color: #d4ebff;}#sk-container-id-2 div.sk-serial::before {content: \"\";position: absolute;border-left: 1px solid gray;box-sizing: border-box;top: 0;bottom: 0;left: 50%;z-index: 0;}#sk-container-id-2 div.sk-serial {display: flex;flex-direction: column;align-items: center;background-color: white;padding-right: 0.2em;padding-left: 0.2em;position: relative;}#sk-container-id-2 div.sk-item {position: relative;z-index: 1;}#sk-container-id-2 div.sk-parallel {display: flex;align-items: stretch;justify-content: center;background-color: white;position: relative;}#sk-container-id-2 div.sk-item::before, #sk-container-id-2 div.sk-parallel-item::before {content: \"\";position: absolute;border-left: 1px solid gray;box-sizing: border-box;top: 0;bottom: 0;left: 50%;z-index: -1;}#sk-container-id-2 div.sk-parallel-item {display: flex;flex-direction: column;z-index: 1;position: relative;background-color: white;}#sk-container-id-2 div.sk-parallel-item:first-child::after {align-self: flex-end;width: 50%;}#sk-container-id-2 div.sk-parallel-item:last-child::after {align-self: flex-start;width: 50%;}#sk-container-id-2 div.sk-parallel-item:only-child::after {width: 0;}#sk-container-id-2 div.sk-dashed-wrapped {border: 1px dashed gray;margin: 0 0.4em 0.5em 0.4em;box-sizing: border-box;padding-bottom: 0.4em;background-color: white;}#sk-container-id-2 div.sk-label label {font-family: monospace;font-weight: bold;display: inline-block;line-height: 1.2em;}#sk-container-id-2 div.sk-label-container {text-align: center;}#sk-container-id-2 div.sk-container {/* jupyter's `normalize.less` sets `[hidden] { display: none; }` but bootstrap.min.css set `[hidden] { display: none !important; }` so we also need the `!important` here to be able to override the default hidden behavior on the sphinx rendered scikit-learn.org. See: https://github.com/scikit-learn/scikit-learn/issues/21755 */display: inline-block !important;position: relative;}#sk-container-id-2 div.sk-text-repr-fallback {display: none;}</style><div id=\"sk-container-id-2\" class=\"sk-top-container\"><div class=\"sk-text-repr-fallback\"><pre>KNeighborsClassifier()</pre><b>In a Jupyter environment, please rerun this cell to show the HTML representation or trust the notebook. <br />On GitHub, the HTML representation is unable to render, please try loading this page with nbviewer.org.</b></div><div class=\"sk-container\" hidden><div class=\"sk-item\"><div class=\"sk-estimator sk-toggleable\"><input class=\"sk-toggleable__control sk-hidden--visually\" id=\"sk-estimator-id-2\" type=\"checkbox\" checked><label for=\"sk-estimator-id-2\" class=\"sk-toggleable__label sk-toggleable__label-arrow\">KNeighborsClassifier</label><div class=\"sk-toggleable__content\"><pre>KNeighborsClassifier()</pre></div></div></div></div></div>"
      ],
      "text/plain": [
       "KNeighborsClassifier()"
      ]
     },
     "execution_count": 46,
     "metadata": {},
     "output_type": "execute_result"
    }
   ],
   "source": [
    "knn=KNeighborsClassifier()\n",
    "knn.fit(x,y)"
   ]
  },
  {
   "cell_type": "code",
   "execution_count": 47,
   "id": "b5d73632-7f3f-4212-b044-447bc28cbe08",
   "metadata": {},
   "outputs": [],
   "source": [
    "new_data=pd.DataFrame({\n",
    "    '10th Result (percentage)':95,\n",
    "    '12th Result (percentage)':91,\n",
    "    'Medium of Instruction':1,\n",
    "    'Current CGPA':9.5,\n",
    "    'Do you participate in sports regularly':1,\n",
    "    'Do you participate in cultural activities':1,\n",
    "    'Do you participate in Debate, Quiz, Essay , Public Speaking':1,\n",
    "},index=[0])"
   ]
  },
  {
   "cell_type": "code",
   "execution_count": 48,
   "id": "98e1c874-e8dd-4d7a-9132-8890500fb3d1",
   "metadata": {},
   "outputs": [
    {
     "name": "stdout",
     "output_type": "stream",
     "text": [
      "place\n",
      "0.72\n"
     ]
    }
   ],
   "source": [
    "p=lr.predict(new_data)\n",
    "prob=lr.predict_proba(new_data)\n",
    "if p==1:\n",
    "    print('place')\n",
    "    print(f\"{prob[0][1]:.2f}\")\n",
    "else:\n",
    "    print('not place')"
   ]
  },
  {
   "cell_type": "code",
   "execution_count": 49,
   "id": "cb1ccb00-28e6-41fe-8443-26c142c54d3d",
   "metadata": {},
   "outputs": [
    {
     "data": {
      "text/plain": [
       "array([[0.28190142, 0.71809858]])"
      ]
     },
     "execution_count": 49,
     "metadata": {},
     "output_type": "execute_result"
    }
   ],
   "source": [
    "prob"
   ]
  },
  {
   "cell_type": "code",
   "execution_count": 50,
   "id": "e4de3947-d610-4a16-b09d-b93512f702b3",
   "metadata": {},
   "outputs": [],
   "source": [
    "import joblib"
   ]
  },
  {
   "cell_type": "code",
   "execution_count": 51,
   "id": "8654f229-da84-4304-a1f5-47d6f2ee8728",
   "metadata": {},
   "outputs": [
    {
     "data": {
      "text/plain": [
       "['model_plecment_predictor']"
      ]
     },
     "execution_count": 51,
     "metadata": {},
     "output_type": "execute_result"
    }
   ],
   "source": [
    "joblib.dump(lr,'model_plecment_predictor')"
   ]
  },
  {
   "cell_type": "markdown",
   "id": "16472ff7-8c89-4c35-916a-b581e533dccc",
   "metadata": {},
   "source": [
    "<h2>GUI making<h2/>"
   ]
  },
  {
   "cell_type": "code",
   "execution_count": 55,
   "id": "bf882e3b-a62b-4ebf-8c85-67f4f408bd86",
   "metadata": {},
   "outputs": [],
   "source": [
    "from tkinter import *\n",
    "import joblib\n",
    "import numpy as np\n",
    "from sklearn import *\n",
    "import tkinter.font as font\n",
    "import pandas as pd\n",
    "\n",
    "def go_to_prediction():\n",
    "    p1=float(e1.get())\n",
    "    p2=float(e2.get())\n",
    "\n",
    "    input3 = clicked3.get()\n",
    "    if input3 == \"Official language\":\n",
    "        p3=1\n",
    "    else:\n",
    "        p3=0\n",
    "        \n",
    "    p4=float(e4.get())\n",
    "    \n",
    "    input5 = clicked5.get()\n",
    "    if input5 == \"Yes\":\n",
    "        p5=1\n",
    "    else:\n",
    "        p5=0\n",
    "\n",
    "    input6 = clicked6.get()\n",
    "    if input6 == \"Yes\":\n",
    "        p6=1\n",
    "    else:\n",
    "        p6=0\n",
    "\n",
    "    input7 = clicked7.get()\n",
    "    if input7 == \"Yes\":\n",
    "        p7=1\n",
    "    else:\n",
    "        p7=0\n",
    "\n",
    "\n",
    "    model = joblib.load('model_plecment_predictor')\n",
    "    new_data = pd.DataFrame({\n",
    "    '10th Result (percentage)':p1,\n",
    "    '12th Result (percentage)':p2,\n",
    "    'Medium of Instruction':p3,\n",
    "    'Current CGPA':p4,\n",
    "    'Do you participate in sports regularly':p5,\n",
    "    'Do you participate in cultural activities':p6,\n",
    "    'Do you participate in Debate, Quiz, Essay , Public Speaking':p7,   \n",
    "    },index=[0])\n",
    "    result=model.predict(new_data)\n",
    "    result1=model.predict_proba(new_data)\n",
    "    \n",
    "    if result[0] == 0:\n",
    "        Label(master, text=\"Can't Placed\",font=(\"Arial\", 35)).grid(row=9)\n",
    "    else:\n",
    "        Label(master, text=\"Student Will be Placed With Probability of\",font=(\"Arial\", 35)).grid(row=10)\n",
    "        Label(master, text=round(result1[0][1],2)*100,font=(\"Arial\", 35)).grid(row=11)\n",
    "        Label(master, text=\"Percent\",font=(\"Arial\", 35)).grid(row=12)\n",
    "\n",
    "\n",
    "master = Tk()\n",
    "master.title(\"Campus Placement Prediction System\")\n",
    "\n",
    "\n",
    "label = Label(master, text = \"Campus Placement Prediction System\"\n",
    "                          , bg = \"green\", fg = \"white\",font=(\"Arial\", 30)) \\\n",
    "                               .grid(row=0,columnspan=2)\n",
    "\n",
    "\n",
    "Label(master, text=\"10th Result (percentage)\",font=(\"Arial\", 25)).grid(row=1)\n",
    "Label(master, text=\"12th Result (percentage)\",font=(\"Arial\", 25)).grid(row=2)\n",
    "Label(master, text=\"Medium of Instruction\",font=(\"Arial\", 25)).grid(row=3)\n",
    "Label(master, text=\"Current CGPA\",font=(\"Arial\", 25)).grid(row=4)\n",
    "Label(master, text=\"Do you participate in sports regularly\",font=(\"Arial\", 25)).grid(row=5)\n",
    "Label(master, text=\"Do you participate in cultural activities\",font=(\"Arial\", 25)).grid(row=6)\n",
    "Label(master, text=\"Do you participate in Debate, Quiz, Essay , Public Speaking\",font=(\"Arial\", 25)).grid(row=7)\n",
    "\n",
    "\n",
    "clicked3 = StringVar()\n",
    "options3 = [\"Official language\",\"Native language\",\"Others\"]\n",
    "\n",
    "clicked5 = StringVar()\n",
    "options5 = [\"Yes\",\"No\"]\n",
    "\n",
    "clicked6 = StringVar()\n",
    "options6 = [\"Yes\",\"No\"]\n",
    "\n",
    "clicked7=StringVar()\n",
    "options7=[\"Yes\",\"No\"]\n",
    "\n",
    "e1 = Entry(master)\n",
    "e2 = Entry(master)\n",
    "e3 = OptionMenu(master , clicked3 , *options3 )\n",
    "e3.configure(width=13,)\n",
    "e4 = Entry(master)\n",
    "e5 = OptionMenu(master , clicked5 , *options5)\n",
    "e5.configure(width=13)\n",
    "e6 = OptionMenu(master , clicked6 , *options6)\n",
    "e6.configure(width=13)\n",
    "e7 = OptionMenu(master , clicked7 , *options7)\n",
    "e7.configure(width=13)\n",
    "\n",
    "e1.grid(row=1, column=1)\n",
    "e2.grid(row=2, column=1)\n",
    "e3.grid(row=3, column=1)\n",
    "e4.grid(row=4, column=1)\n",
    "e5.grid(row=5, column=1)\n",
    "e6.grid(row=6, column=1)\n",
    "e7.grid(row=7, column=1)\n",
    "\n",
    "buttonFont = font.Font(family='Helvetica', size=16, weight='bold')\n",
    "Button(master, text='Predict',height= 1, width=8,activebackground='#00ff00',font=buttonFont,bg='black', fg='white',command=go_to_prediction).grid()\n",
    "\n",
    "mainloop()"
   ]
  },
  {
   "cell_type": "code",
   "execution_count": null,
   "id": "b9966c5e-45e9-4837-aedb-e57a5d4ee907",
   "metadata": {},
   "outputs": [],
   "source": []
  }
 ],
 "metadata": {
  "kernelspec": {
   "display_name": "Python 3 (ipykernel)",
   "language": "python",
   "name": "python3"
  },
  "language_info": {
   "codemirror_mode": {
    "name": "ipython",
    "version": 3
   },
   "file_extension": ".py",
   "mimetype": "text/x-python",
   "name": "python",
   "nbconvert_exporter": "python",
   "pygments_lexer": "ipython3",
   "version": "3.11.7"
  }
 },
 "nbformat": 4,
 "nbformat_minor": 5
}
